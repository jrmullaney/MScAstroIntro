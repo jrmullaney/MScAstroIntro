{
 "cells": [
  {
   "cell_type": "markdown",
   "id": "ed1dc336-574e-4b5a-9b4e-3f18118b77eb",
   "metadata": {},
   "source": [
    "# Welcome\n",
    "\n",
    "This is a quick summary of basic astronomy and astrophysics, including terminology, to help MSc students new to the discipline to get started."
   ]
  },
  {
   "cell_type": "code",
   "execution_count": null,
   "id": "3dc351f8-ecb8-4fb2-9c49-2ce16bd615e6",
   "metadata": {},
   "outputs": [],
   "source": []
  }
 ],
 "metadata": {
  "kernelspec": {
   "display_name": "Python 3 (ipykernel)",
   "language": "python",
   "name": "python3"
  },
  "language_info": {
   "codemirror_mode": {
    "name": "ipython",
    "version": 3
   },
   "file_extension": ".py",
   "mimetype": "text/x-python",
   "name": "python",
   "nbconvert_exporter": "python",
   "pygments_lexer": "ipython3",
   "version": "3.9.18"
  }
 },
 "nbformat": 4,
 "nbformat_minor": 5
}