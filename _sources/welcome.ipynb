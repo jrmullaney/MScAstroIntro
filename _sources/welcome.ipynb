{
 "cells": [
  {
   "cell_type": "markdown",
   "id": "ed1dc336-574e-4b5a-9b4e-3f18118b77eb",
   "metadata": {},
   "source": [
    "# The MSc Astrophysics Introductory Notes\n",
    "\n",
    "## Introduction\n",
    "This is a quick summary of basic astronomy and astrophysics, including terminology, to help MSc students new to the discipline to get started. On this page, you will be introduced to basic terminology, units and symbols that will be used throughout the other pages.\n",
    "\n",
    "## Terminology\n",
    "Astronomical terminology is famously arcane.\n",
    "This is because astronomy is an observational science, so classification was done, and classes were given names, before the objects being classified were understood.\n",
    "This is coupled with a reluctance to revise terminology - probably because astronomers, who have to deal with very long timescales, make more use of historical data than typical physicists, and it would be confusing if old papers used different terminology.\n",
    "\n",
    "## General units\n",
    "In contrast to the rest of science, astronomers generally still use cgs units instead of SI.\n",
    "This means that you will occasionally encounter some unfamiliar units.\n",
    "The most common one is the cgs unit of energy, the **erg**: 1 erg = 1 g cm$^{2}$ s$^{-2}$ = $10^{-7}$ J; for example, the power output of stars is usually quoted in erg s$^{-1}$ rather than watts.\n",
    "You may also encounter the cgs unit of force, the **dyne**: one dyne is $10^{-7}$ N.\n",
    "\n",
    "**Be aware that the form of many equations in electromagnetism is different in cgs from the SI version.**\n",
    "This should not be important in the astronomy courses you will be taking in your MSc, but if you see a version of Maxwell's equations that does not look quite as you remember, it is probably in cgs.\n",
    "\n",
    "Other non-SI units that you may encounter in astronomy courses are some units of length: the **angstrom** for wavelength ($1\\overset{\\circ}{A}$ = 0.1 nm = $10^{-10}$ m), the **astronomical unit** for distances within a planetary system (1 au is the mean distance between the Earth and the Sun, $1.496\\times10^{11}$ m) and the **parsec** for distances beyond the solar system (1 pc = 206265 au = $3.086\\times10^{16}$ m).\n",
    "The parsec takes standard SI prefixes, so you will encounter kpc, Mpc and Gpc, but the other two do not.\n"
   ]
  },
  {
   "cell_type": "code",
   "execution_count": null,
   "id": "3dc351f8-ecb8-4fb2-9c49-2ce16bd615e6",
   "metadata": {},
   "outputs": [],
   "source": []
  }
 ],
 "metadata": {
  "kernelspec": {
   "display_name": "Python 3 (ipykernel)",
   "language": "python",
   "name": "python3"
  },
  "language_info": {
   "codemirror_mode": {
    "name": "ipython",
    "version": 3
   },
   "file_extension": ".py",
   "mimetype": "text/x-python",
   "name": "python",
   "nbconvert_exporter": "python",
   "pygments_lexer": "ipython3",
   "version": "3.9.18"
  }
 },
 "nbformat": 4,
 "nbformat_minor": 5
}
